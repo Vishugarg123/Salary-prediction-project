{
 "cells": [
  {
   "cell_type": "code",
   "execution_count": 1,
   "id": "772ce06d",
   "metadata": {},
   "outputs": [],
   "source": [
    "import numpy as np\n",
    "import pandas as pd\n",
    "import seaborn as sns\n",
    "import matplotlib.pyplot as plt"
   ]
  },
  {
   "cell_type": "code",
   "execution_count": 3,
   "id": "438f3530",
   "metadata": {},
   "outputs": [
    {
     "data": {
      "text/html": [
       "<div>\n",
       "<style scoped>\n",
       "    .dataframe tbody tr th:only-of-type {\n",
       "        vertical-align: middle;\n",
       "    }\n",
       "\n",
       "    .dataframe tbody tr th {\n",
       "        vertical-align: top;\n",
       "    }\n",
       "\n",
       "    .dataframe thead th {\n",
       "        text-align: right;\n",
       "    }\n",
       "</style>\n",
       "<table border=\"1\" class=\"dataframe\">\n",
       "  <thead>\n",
       "    <tr style=\"text-align: right;\">\n",
       "      <th></th>\n",
       "      <th>rank</th>\n",
       "      <th>discipline</th>\n",
       "      <th>yrs.since.phd</th>\n",
       "      <th>yrs.service</th>\n",
       "      <th>sex</th>\n",
       "      <th>salary</th>\n",
       "    </tr>\n",
       "  </thead>\n",
       "  <tbody>\n",
       "    <tr>\n",
       "      <th>0</th>\n",
       "      <td>Prof</td>\n",
       "      <td>B</td>\n",
       "      <td>19</td>\n",
       "      <td>18</td>\n",
       "      <td>Male</td>\n",
       "      <td>139750</td>\n",
       "    </tr>\n",
       "    <tr>\n",
       "      <th>1</th>\n",
       "      <td>Prof</td>\n",
       "      <td>B</td>\n",
       "      <td>20</td>\n",
       "      <td>16</td>\n",
       "      <td>Male</td>\n",
       "      <td>173200</td>\n",
       "    </tr>\n",
       "    <tr>\n",
       "      <th>2</th>\n",
       "      <td>AsstProf</td>\n",
       "      <td>B</td>\n",
       "      <td>4</td>\n",
       "      <td>3</td>\n",
       "      <td>Male</td>\n",
       "      <td>79750</td>\n",
       "    </tr>\n",
       "    <tr>\n",
       "      <th>3</th>\n",
       "      <td>Prof</td>\n",
       "      <td>B</td>\n",
       "      <td>45</td>\n",
       "      <td>39</td>\n",
       "      <td>Male</td>\n",
       "      <td>115000</td>\n",
       "    </tr>\n",
       "    <tr>\n",
       "      <th>4</th>\n",
       "      <td>Prof</td>\n",
       "      <td>B</td>\n",
       "      <td>40</td>\n",
       "      <td>41</td>\n",
       "      <td>Male</td>\n",
       "      <td>141500</td>\n",
       "    </tr>\n",
       "    <tr>\n",
       "      <th>...</th>\n",
       "      <td>...</td>\n",
       "      <td>...</td>\n",
       "      <td>...</td>\n",
       "      <td>...</td>\n",
       "      <td>...</td>\n",
       "      <td>...</td>\n",
       "    </tr>\n",
       "    <tr>\n",
       "      <th>392</th>\n",
       "      <td>Prof</td>\n",
       "      <td>A</td>\n",
       "      <td>33</td>\n",
       "      <td>30</td>\n",
       "      <td>Male</td>\n",
       "      <td>103106</td>\n",
       "    </tr>\n",
       "    <tr>\n",
       "      <th>393</th>\n",
       "      <td>Prof</td>\n",
       "      <td>A</td>\n",
       "      <td>31</td>\n",
       "      <td>19</td>\n",
       "      <td>Male</td>\n",
       "      <td>150564</td>\n",
       "    </tr>\n",
       "    <tr>\n",
       "      <th>394</th>\n",
       "      <td>Prof</td>\n",
       "      <td>A</td>\n",
       "      <td>42</td>\n",
       "      <td>25</td>\n",
       "      <td>Male</td>\n",
       "      <td>101738</td>\n",
       "    </tr>\n",
       "    <tr>\n",
       "      <th>395</th>\n",
       "      <td>Prof</td>\n",
       "      <td>A</td>\n",
       "      <td>25</td>\n",
       "      <td>15</td>\n",
       "      <td>Male</td>\n",
       "      <td>95329</td>\n",
       "    </tr>\n",
       "    <tr>\n",
       "      <th>396</th>\n",
       "      <td>AsstProf</td>\n",
       "      <td>A</td>\n",
       "      <td>8</td>\n",
       "      <td>4</td>\n",
       "      <td>Male</td>\n",
       "      <td>81035</td>\n",
       "    </tr>\n",
       "  </tbody>\n",
       "</table>\n",
       "<p>397 rows × 6 columns</p>\n",
       "</div>"
      ],
      "text/plain": [
       "         rank discipline  yrs.since.phd  yrs.service   sex  salary\n",
       "0        Prof          B             19           18  Male  139750\n",
       "1        Prof          B             20           16  Male  173200\n",
       "2    AsstProf          B              4            3  Male   79750\n",
       "3        Prof          B             45           39  Male  115000\n",
       "4        Prof          B             40           41  Male  141500\n",
       "..        ...        ...            ...          ...   ...     ...\n",
       "392      Prof          A             33           30  Male  103106\n",
       "393      Prof          A             31           19  Male  150564\n",
       "394      Prof          A             42           25  Male  101738\n",
       "395      Prof          A             25           15  Male   95329\n",
       "396  AsstProf          A              8            4  Male   81035\n",
       "\n",
       "[397 rows x 6 columns]"
      ]
     },
     "execution_count": 3,
     "metadata": {},
     "output_type": "execute_result"
    }
   ],
   "source": [
    "df=pd.read_csv('https://raw.githubusercontent.com/dsrscientist/dataset3/main/Salaries.csv')\n",
    "df"
   ]
  },
  {
   "cell_type": "code",
   "execution_count": 4,
   "id": "d9a0d0ba",
   "metadata": {},
   "outputs": [
    {
     "data": {
      "text/plain": [
       "rank             0\n",
       "discipline       0\n",
       "yrs.since.phd    0\n",
       "yrs.service      0\n",
       "sex              0\n",
       "salary           0\n",
       "dtype: int64"
      ]
     },
     "execution_count": 4,
     "metadata": {},
     "output_type": "execute_result"
    }
   ],
   "source": [
    "df.isnull().sum()"
   ]
  },
  {
   "cell_type": "code",
   "execution_count": 5,
   "id": "1e1d66de",
   "metadata": {},
   "outputs": [
    {
     "data": {
      "text/plain": [
       "<bound method DataFrame.info of          rank discipline  yrs.since.phd  yrs.service   sex  salary\n",
       "0        Prof          B             19           18  Male  139750\n",
       "1        Prof          B             20           16  Male  173200\n",
       "2    AsstProf          B              4            3  Male   79750\n",
       "3        Prof          B             45           39  Male  115000\n",
       "4        Prof          B             40           41  Male  141500\n",
       "..        ...        ...            ...          ...   ...     ...\n",
       "392      Prof          A             33           30  Male  103106\n",
       "393      Prof          A             31           19  Male  150564\n",
       "394      Prof          A             42           25  Male  101738\n",
       "395      Prof          A             25           15  Male   95329\n",
       "396  AsstProf          A              8            4  Male   81035\n",
       "\n",
       "[397 rows x 6 columns]>"
      ]
     },
     "execution_count": 5,
     "metadata": {},
     "output_type": "execute_result"
    }
   ],
   "source": [
    "df.info"
   ]
  },
  {
   "cell_type": "code",
   "execution_count": 19,
   "id": "95561999",
   "metadata": {},
   "outputs": [],
   "source": [
    "df=df.drop(['sex'],axis=1)"
   ]
  },
  {
   "cell_type": "code",
   "execution_count": 20,
   "id": "f4c0699d",
   "metadata": {},
   "outputs": [
    {
     "data": {
      "text/html": [
       "<div>\n",
       "<style scoped>\n",
       "    .dataframe tbody tr th:only-of-type {\n",
       "        vertical-align: middle;\n",
       "    }\n",
       "\n",
       "    .dataframe tbody tr th {\n",
       "        vertical-align: top;\n",
       "    }\n",
       "\n",
       "    .dataframe thead th {\n",
       "        text-align: right;\n",
       "    }\n",
       "</style>\n",
       "<table border=\"1\" class=\"dataframe\">\n",
       "  <thead>\n",
       "    <tr style=\"text-align: right;\">\n",
       "      <th></th>\n",
       "      <th>rank</th>\n",
       "      <th>discipline</th>\n",
       "      <th>yrs.since.phd</th>\n",
       "      <th>yrs.service</th>\n",
       "      <th>salary</th>\n",
       "    </tr>\n",
       "  </thead>\n",
       "  <tbody>\n",
       "    <tr>\n",
       "      <th>0</th>\n",
       "      <td>Prof</td>\n",
       "      <td>B</td>\n",
       "      <td>19</td>\n",
       "      <td>18</td>\n",
       "      <td>139750</td>\n",
       "    </tr>\n",
       "    <tr>\n",
       "      <th>1</th>\n",
       "      <td>Prof</td>\n",
       "      <td>B</td>\n",
       "      <td>20</td>\n",
       "      <td>16</td>\n",
       "      <td>173200</td>\n",
       "    </tr>\n",
       "    <tr>\n",
       "      <th>2</th>\n",
       "      <td>AsstProf</td>\n",
       "      <td>B</td>\n",
       "      <td>4</td>\n",
       "      <td>3</td>\n",
       "      <td>79750</td>\n",
       "    </tr>\n",
       "    <tr>\n",
       "      <th>3</th>\n",
       "      <td>Prof</td>\n",
       "      <td>B</td>\n",
       "      <td>45</td>\n",
       "      <td>39</td>\n",
       "      <td>115000</td>\n",
       "    </tr>\n",
       "    <tr>\n",
       "      <th>4</th>\n",
       "      <td>Prof</td>\n",
       "      <td>B</td>\n",
       "      <td>40</td>\n",
       "      <td>41</td>\n",
       "      <td>141500</td>\n",
       "    </tr>\n",
       "    <tr>\n",
       "      <th>...</th>\n",
       "      <td>...</td>\n",
       "      <td>...</td>\n",
       "      <td>...</td>\n",
       "      <td>...</td>\n",
       "      <td>...</td>\n",
       "    </tr>\n",
       "    <tr>\n",
       "      <th>392</th>\n",
       "      <td>Prof</td>\n",
       "      <td>A</td>\n",
       "      <td>33</td>\n",
       "      <td>30</td>\n",
       "      <td>103106</td>\n",
       "    </tr>\n",
       "    <tr>\n",
       "      <th>393</th>\n",
       "      <td>Prof</td>\n",
       "      <td>A</td>\n",
       "      <td>31</td>\n",
       "      <td>19</td>\n",
       "      <td>150564</td>\n",
       "    </tr>\n",
       "    <tr>\n",
       "      <th>394</th>\n",
       "      <td>Prof</td>\n",
       "      <td>A</td>\n",
       "      <td>42</td>\n",
       "      <td>25</td>\n",
       "      <td>101738</td>\n",
       "    </tr>\n",
       "    <tr>\n",
       "      <th>395</th>\n",
       "      <td>Prof</td>\n",
       "      <td>A</td>\n",
       "      <td>25</td>\n",
       "      <td>15</td>\n",
       "      <td>95329</td>\n",
       "    </tr>\n",
       "    <tr>\n",
       "      <th>396</th>\n",
       "      <td>AsstProf</td>\n",
       "      <td>A</td>\n",
       "      <td>8</td>\n",
       "      <td>4</td>\n",
       "      <td>81035</td>\n",
       "    </tr>\n",
       "  </tbody>\n",
       "</table>\n",
       "<p>397 rows × 5 columns</p>\n",
       "</div>"
      ],
      "text/plain": [
       "         rank discipline  yrs.since.phd  yrs.service  salary\n",
       "0        Prof          B             19           18  139750\n",
       "1        Prof          B             20           16  173200\n",
       "2    AsstProf          B              4            3   79750\n",
       "3        Prof          B             45           39  115000\n",
       "4        Prof          B             40           41  141500\n",
       "..        ...        ...            ...          ...     ...\n",
       "392      Prof          A             33           30  103106\n",
       "393      Prof          A             31           19  150564\n",
       "394      Prof          A             42           25  101738\n",
       "395      Prof          A             25           15   95329\n",
       "396  AsstProf          A              8            4   81035\n",
       "\n",
       "[397 rows x 5 columns]"
      ]
     },
     "execution_count": 20,
     "metadata": {},
     "output_type": "execute_result"
    }
   ],
   "source": [
    "df"
   ]
  },
  {
   "cell_type": "code",
   "execution_count": 21,
   "id": "d1ab0fbe",
   "metadata": {},
   "outputs": [
    {
     "data": {
      "text/html": [
       "<div>\n",
       "<style scoped>\n",
       "    .dataframe tbody tr th:only-of-type {\n",
       "        vertical-align: middle;\n",
       "    }\n",
       "\n",
       "    .dataframe tbody tr th {\n",
       "        vertical-align: top;\n",
       "    }\n",
       "\n",
       "    .dataframe thead th {\n",
       "        text-align: right;\n",
       "    }\n",
       "</style>\n",
       "<table border=\"1\" class=\"dataframe\">\n",
       "  <thead>\n",
       "    <tr style=\"text-align: right;\">\n",
       "      <th></th>\n",
       "      <th>yrs.since.phd</th>\n",
       "      <th>yrs.service</th>\n",
       "      <th>salary</th>\n",
       "    </tr>\n",
       "  </thead>\n",
       "  <tbody>\n",
       "    <tr>\n",
       "      <th>count</th>\n",
       "      <td>397.000000</td>\n",
       "      <td>397.000000</td>\n",
       "      <td>397.000000</td>\n",
       "    </tr>\n",
       "    <tr>\n",
       "      <th>mean</th>\n",
       "      <td>22.314861</td>\n",
       "      <td>17.614610</td>\n",
       "      <td>113706.458438</td>\n",
       "    </tr>\n",
       "    <tr>\n",
       "      <th>std</th>\n",
       "      <td>12.887003</td>\n",
       "      <td>13.006024</td>\n",
       "      <td>30289.038695</td>\n",
       "    </tr>\n",
       "    <tr>\n",
       "      <th>min</th>\n",
       "      <td>1.000000</td>\n",
       "      <td>0.000000</td>\n",
       "      <td>57800.000000</td>\n",
       "    </tr>\n",
       "    <tr>\n",
       "      <th>25%</th>\n",
       "      <td>12.000000</td>\n",
       "      <td>7.000000</td>\n",
       "      <td>91000.000000</td>\n",
       "    </tr>\n",
       "    <tr>\n",
       "      <th>50%</th>\n",
       "      <td>21.000000</td>\n",
       "      <td>16.000000</td>\n",
       "      <td>107300.000000</td>\n",
       "    </tr>\n",
       "    <tr>\n",
       "      <th>75%</th>\n",
       "      <td>32.000000</td>\n",
       "      <td>27.000000</td>\n",
       "      <td>134185.000000</td>\n",
       "    </tr>\n",
       "    <tr>\n",
       "      <th>max</th>\n",
       "      <td>56.000000</td>\n",
       "      <td>60.000000</td>\n",
       "      <td>231545.000000</td>\n",
       "    </tr>\n",
       "  </tbody>\n",
       "</table>\n",
       "</div>"
      ],
      "text/plain": [
       "       yrs.since.phd  yrs.service         salary\n",
       "count     397.000000   397.000000     397.000000\n",
       "mean       22.314861    17.614610  113706.458438\n",
       "std        12.887003    13.006024   30289.038695\n",
       "min         1.000000     0.000000   57800.000000\n",
       "25%        12.000000     7.000000   91000.000000\n",
       "50%        21.000000    16.000000  107300.000000\n",
       "75%        32.000000    27.000000  134185.000000\n",
       "max        56.000000    60.000000  231545.000000"
      ]
     },
     "execution_count": 21,
     "metadata": {},
     "output_type": "execute_result"
    }
   ],
   "source": [
    "df.describe()"
   ]
  },
  {
   "cell_type": "code",
   "execution_count": 22,
   "id": "765e6619",
   "metadata": {},
   "outputs": [
    {
     "data": {
      "text/html": [
       "<div>\n",
       "<style scoped>\n",
       "    .dataframe tbody tr th:only-of-type {\n",
       "        vertical-align: middle;\n",
       "    }\n",
       "\n",
       "    .dataframe tbody tr th {\n",
       "        vertical-align: top;\n",
       "    }\n",
       "\n",
       "    .dataframe thead th {\n",
       "        text-align: right;\n",
       "    }\n",
       "</style>\n",
       "<table border=\"1\" class=\"dataframe\">\n",
       "  <thead>\n",
       "    <tr style=\"text-align: right;\">\n",
       "      <th></th>\n",
       "      <th>yrs.since.phd</th>\n",
       "      <th>yrs.service</th>\n",
       "      <th>salary</th>\n",
       "    </tr>\n",
       "  </thead>\n",
       "  <tbody>\n",
       "    <tr>\n",
       "      <th>yrs.since.phd</th>\n",
       "      <td>1.000000</td>\n",
       "      <td>0.909649</td>\n",
       "      <td>0.419231</td>\n",
       "    </tr>\n",
       "    <tr>\n",
       "      <th>yrs.service</th>\n",
       "      <td>0.909649</td>\n",
       "      <td>1.000000</td>\n",
       "      <td>0.334745</td>\n",
       "    </tr>\n",
       "    <tr>\n",
       "      <th>salary</th>\n",
       "      <td>0.419231</td>\n",
       "      <td>0.334745</td>\n",
       "      <td>1.000000</td>\n",
       "    </tr>\n",
       "  </tbody>\n",
       "</table>\n",
       "</div>"
      ],
      "text/plain": [
       "               yrs.since.phd  yrs.service    salary\n",
       "yrs.since.phd       1.000000     0.909649  0.419231\n",
       "yrs.service         0.909649     1.000000  0.334745\n",
       "salary              0.419231     0.334745  1.000000"
      ]
     },
     "execution_count": 22,
     "metadata": {},
     "output_type": "execute_result"
    }
   ],
   "source": [
    "df.corr()"
   ]
  },
  {
   "cell_type": "code",
   "execution_count": 23,
   "id": "74bd4826",
   "metadata": {},
   "outputs": [
    {
     "data": {
      "text/plain": [
       "yrs.service      0.334745\n",
       "yrs.since.phd    0.419231\n",
       "salary           1.000000\n",
       "Name: salary, dtype: float64"
      ]
     },
     "execution_count": 23,
     "metadata": {},
     "output_type": "execute_result"
    }
   ],
   "source": [
    "df.corr()['salary'].sort_values()"
   ]
  },
  {
   "cell_type": "code",
   "execution_count": 24,
   "id": "4c5ad130",
   "metadata": {},
   "outputs": [
    {
     "data": {
      "text/plain": [
       "<AxesSubplot:>"
      ]
     },
     "execution_count": 24,
     "metadata": {},
     "output_type": "execute_result"
    },
    {
     "data": {
      "image/png": "[encoded data removed]",
      "text/plain": [
       "<Figure size 720x360 with 2 Axes>"
      ]
     },
     "metadata": {
      "needs_background": "light"
     },
     "output_type": "display_data"
    }
   ],
   "source": [
    "plt.figure(figsize=(10,5))\n",
    "sns.heatmap(df.corr(),annot=True,linewidth=2,linecolor='yellow',fmt='.2f')"
   ]
  },
  {
   "cell_type": "code",
   "execution_count": 25,
   "id": "f0190cb5",
   "metadata": {},
   "outputs": [],
   "source": [
    "import warnings\n",
    "warnings.filterwarnings('ignore')"
   ]
  },
  {
   "cell_type": "code",
   "execution_count": 26,
   "id": "b2a873f9",
   "metadata": {},
   "outputs": [
    {
     "data": {
      "image/png": "[encoded data removed]",
      "text/plain": [
       "<Figure size 1008x3024 with 3 Axes>"
      ]
     },
     "metadata": {
      "needs_background": "light"
     },
     "output_type": "display_data"
    }
   ],
   "source": [
    "colmlist=df.columns.values\n",
    "ncol=14\n",
    "nrow=8\n",
    "plt.figure(figsize=(ncol,3*ncol))\n",
    "for i in range(2,len(colmlist)):\n",
    "    plt.subplot(nrow,ncol,i+1)\n",
    "    sns.boxplot(df[colmlist[i]],color='red',orient='h')\n",
    "    plt.tight_layout()"
   ]
  },
  {
   "cell_type": "code",
   "execution_count": 27,
   "id": "7d192143",
   "metadata": {},
   "outputs": [
    {
     "data": {
      "text/plain": [
       "yrs.since.phd    0.300880\n",
       "yrs.service      0.650569\n",
       "salary           0.714568\n",
       "dtype: float64"
      ]
     },
     "execution_count": 27,
     "metadata": {},
     "output_type": "execute_result"
    }
   ],
   "source": [
    "df.skew()"
   ]
  },
  {
   "cell_type": "code",
   "execution_count": 28,
   "id": "9bb9c09a",
   "metadata": {},
   "outputs": [
    {
     "data": {
      "text/plain": [
       "<AxesSubplot:xlabel='rank', ylabel='salary'>"
      ]
     },
     "execution_count": 28,
     "metadata": {},
     "output_type": "execute_result"
    },
    {
     "data": {
      "image/png": "[encoded data removed]",
      "text/plain": [
       "<Figure size 432x288 with 1 Axes>"
      ]
     },
     "metadata": {
      "needs_background": "light"
     },
     "output_type": "display_data"
    }
   ],
   "source": [
    "sns.scatterplot(x=\"rank\",y=\"salary\",data=df)"
   ]
  },
  {
   "cell_type": "code",
   "execution_count": 29,
   "id": "7e967ae2",
   "metadata": {},
   "outputs": [
    {
     "data": {
      "text/plain": [
       "<AxesSubplot:xlabel='discipline', ylabel='salary'>"
      ]
     },
     "execution_count": 29,
     "metadata": {},
     "output_type": "execute_result"
    },
    {
     "data": {
      "image/png": "[encoded data removed]",
      "text/plain": [
       "<Figure size 432x288 with 1 Axes>"
      ]
     },
     "metadata": {
      "needs_background": "light"
     },
     "output_type": "display_data"
    }
   ],
   "source": [
    "sns.scatterplot(x='discipline',y='salary',data=df)"
   ]
  },
  {
   "cell_type": "code",
   "execution_count": 30,
   "id": "5e1e767b",
   "metadata": {},
   "outputs": [
    {
     "data": {
      "text/plain": [
       "<AxesSubplot:xlabel='yrs.since.phd', ylabel='salary'>"
      ]
     },
     "execution_count": 30,
     "metadata": {},
     "output_type": "execute_result"
    },
    {
     "data": {
      "image/png": "[encoded data removed]",
      "text/plain": [
       "<Figure size 432x288 with 1 Axes>"
      ]
     },
     "metadata": {
      "needs_background": "light"
     },
     "output_type": "display_data"
    }
   ],
   "source": [
    "sns.scatterplot(x='yrs.since.phd',y='salary',data=df)"
   ]
  },
  {
   "cell_type": "code",
   "execution_count": 31,
   "id": "d20a48ee",
   "metadata": {},
   "outputs": [
    {
     "data": {
      "text/plain": [
       "<AxesSubplot:xlabel='yrs.service', ylabel='salary'>"
      ]
     },
     "execution_count": 31,
     "metadata": {},
     "output_type": "execute_result"
    },
    {
     "data": {
      "image/png": "[encoded data removed]",
      "text/plain": [
       "<Figure size 432x288 with 1 Axes>"
      ]
     },
     "metadata": {
      "needs_background": "light"
     },
     "output_type": "display_data"
    }
   ],
   "source": [
    "sns.scatterplot(x='yrs.service',y='salary',data=df)"
   ]
  },
  {
   "cell_type": "code",
   "execution_count": 33,
   "id": "43a32e64",
   "metadata": {},
   "outputs": [
    {
     "data": {
      "text/plain": [
       "<AxesSubplot:xlabel='yrs.since.phd', ylabel='Density'>"
      ]
     },
     "execution_count": 33,
     "metadata": {},
     "output_type": "execute_result"
    },
    {
     "data": {
      "image/png": "[encoded data removed]",
      "text/plain": [
       "<Figure size 432x288 with 1 Axes>"
      ]
     },
     "metadata": {
      "needs_background": "light"
     },
     "output_type": "display_data"
    }
   ],
   "source": [
    "sns.distplot(df['yrs.since.phd'])"
   ]
  },
  {
   "cell_type": "code",
   "execution_count": 35,
   "id": "955a7013",
   "metadata": {},
   "outputs": [
    {
     "data": {
      "text/plain": [
       "<AxesSubplot:xlabel='yrs.service', ylabel='Density'>"
      ]
     },
     "execution_count": 35,
     "metadata": {},
     "output_type": "execute_result"
    },
    {
     "data": {
      "image/png": "[encoded data removed]",
      "text/plain": [
       "<Figure size 432x288 with 1 Axes>"
      ]
     },
     "metadata": {
      "needs_background": "light"
     },
     "output_type": "display_data"
    }
   ],
   "source": [
    "sns.distplot(df['yrs.service'])"
   ]
  },
  {
   "cell_type": "code",
   "execution_count": 36,
   "id": "3b00faf9",
   "metadata": {},
   "outputs": [
    {
     "data": {
      "text/plain": [
       "<AxesSubplot:xlabel='salary', ylabel='Density'>"
      ]
     },
     "execution_count": 36,
     "metadata": {},
     "output_type": "execute_result"
    },
    {
     "data": {
      "image/png": "[encoded data removed]",
      "text/plain": [
       "<Figure size 432x288 with 1 Axes>"
      ]
     },
     "metadata": {
      "needs_background": "light"
     },
     "output_type": "display_data"
    }
   ],
   "source": [
    "sns.distplot(df['salary'])"
   ]
  },
  {
   "cell_type": "code",
   "execution_count": 37,
   "id": "25b5a532",
   "metadata": {},
   "outputs": [
    {
     "data": {
      "text/plain": [
       "yrs.since.phd    0.419231\n",
       "yrs.service      0.334745\n",
       "salary           1.000000\n",
       "Name: salary, dtype: float64"
      ]
     },
     "execution_count": 37,
     "metadata": {},
     "output_type": "execute_result"
    }
   ],
   "source": [
    "df.corr()[\"salary\"]"
   ]
  },
  {
   "cell_type": "code",
   "execution_count": 101,
   "id": "04843055",
   "metadata": {},
   "outputs": [],
   "source": [
    "df=df.drop(['yrs.since.phd'],axis=1)"
   ]
  },
  {
   "cell_type": "code",
   "execution_count": 102,
   "id": "bb841646",
   "metadata": {},
   "outputs": [
    {
     "data": {
      "text/html": [
       "<div>\n",
       "<style scoped>\n",
       "    .dataframe tbody tr th:only-of-type {\n",
       "        vertical-align: middle;\n",
       "    }\n",
       "\n",
       "    .dataframe tbody tr th {\n",
       "        vertical-align: top;\n",
       "    }\n",
       "\n",
       "    .dataframe thead th {\n",
       "        text-align: right;\n",
       "    }\n",
       "</style>\n",
       "<table border=\"1\" class=\"dataframe\">\n",
       "  <thead>\n",
       "    <tr style=\"text-align: right;\">\n",
       "      <th></th>\n",
       "      <th>yrs.service</th>\n",
       "      <th>salary</th>\n",
       "    </tr>\n",
       "  </thead>\n",
       "  <tbody>\n",
       "    <tr>\n",
       "      <th>0</th>\n",
       "      <td>18</td>\n",
       "      <td>139750</td>\n",
       "    </tr>\n",
       "    <tr>\n",
       "      <th>1</th>\n",
       "      <td>16</td>\n",
       "      <td>173200</td>\n",
       "    </tr>\n",
       "    <tr>\n",
       "      <th>2</th>\n",
       "      <td>3</td>\n",
       "      <td>79750</td>\n",
       "    </tr>\n",
       "    <tr>\n",
       "      <th>3</th>\n",
       "      <td>39</td>\n",
       "      <td>115000</td>\n",
       "    </tr>\n",
       "    <tr>\n",
       "      <th>4</th>\n",
       "      <td>41</td>\n",
       "      <td>141500</td>\n",
       "    </tr>\n",
       "    <tr>\n",
       "      <th>...</th>\n",
       "      <td>...</td>\n",
       "      <td>...</td>\n",
       "    </tr>\n",
       "    <tr>\n",
       "      <th>392</th>\n",
       "      <td>30</td>\n",
       "      <td>103106</td>\n",
       "    </tr>\n",
       "    <tr>\n",
       "      <th>393</th>\n",
       "      <td>19</td>\n",
       "      <td>150564</td>\n",
       "    </tr>\n",
       "    <tr>\n",
       "      <th>394</th>\n",
       "      <td>25</td>\n",
       "      <td>101738</td>\n",
       "    </tr>\n",
       "    <tr>\n",
       "      <th>395</th>\n",
       "      <td>15</td>\n",
       "      <td>95329</td>\n",
       "    </tr>\n",
       "    <tr>\n",
       "      <th>396</th>\n",
       "      <td>4</td>\n",
       "      <td>81035</td>\n",
       "    </tr>\n",
       "  </tbody>\n",
       "</table>\n",
       "<p>397 rows × 2 columns</p>\n",
       "</div>"
      ],
      "text/plain": [
       "     yrs.service  salary\n",
       "0             18  139750\n",
       "1             16  173200\n",
       "2              3   79750\n",
       "3             39  115000\n",
       "4             41  141500\n",
       "..           ...     ...\n",
       "392           30  103106\n",
       "393           19  150564\n",
       "394           25  101738\n",
       "395           15   95329\n",
       "396            4   81035\n",
       "\n",
       "[397 rows x 2 columns]"
      ]
     },
     "execution_count": 102,
     "metadata": {},
     "output_type": "execute_result"
    }
   ],
   "source": [
    "df"
   ]
  },
  {
   "cell_type": "code",
   "execution_count": 103,
   "id": "ed377ce8",
   "metadata": {},
   "outputs": [
    {
     "data": {
      "text/plain": [
       "(397, 2)"
      ]
     },
     "execution_count": 103,
     "metadata": {},
     "output_type": "execute_result"
    }
   ],
   "source": [
    "from scipy.stats import zscore\n",
    "import numpy as np\n",
    "z=np.abs(zscore(df))\n",
    "z.shape"
   ]
  },
  {
   "cell_type": "code",
   "execution_count": 104,
   "id": "426024d9",
   "metadata": {},
   "outputs": [
    {
     "name": "stdout",
     "output_type": "stream",
     "text": [
      "(array([ 43, 131, 330, 364], dtype=int64), array([1, 0, 0, 1], dtype=int64))\n"
     ]
    }
   ],
   "source": [
    "threshold=3\n",
    "print(np.where(z>3))"
   ]
  },
  {
   "cell_type": "code",
   "execution_count": 105,
   "id": "26220c91",
   "metadata": {},
   "outputs": [
    {
     "data": {
      "text/plain": [
       "4"
      ]
     },
     "execution_count": 105,
     "metadata": {},
     "output_type": "execute_result"
    }
   ],
   "source": [
    "len(np.where(z>3)[0])"
   ]
  },
  {
   "cell_type": "code",
   "execution_count": 106,
   "id": "ae966500",
   "metadata": {},
   "outputs": [
    {
     "data": {
      "text/plain": [
       "yrs.service    1.569358\n",
       "salary         3.895377\n",
       "Name: 43, dtype: float64"
      ]
     },
     "execution_count": 106,
     "metadata": {},
     "output_type": "execute_result"
    }
   ],
   "source": [
    "z.iloc[43]"
   ]
  },
  {
   "cell_type": "code",
   "execution_count": 107,
   "id": "887d5a18",
   "metadata": {},
   "outputs": [
    {
     "name": "stdout",
     "output_type": "stream",
     "text": [
      "old dataframe (397, 2)\n",
      "new dataframe (393, 2)\n",
      "total_droped_rows 4\n"
     ]
    }
   ],
   "source": [
    "df_new=df[(z<3).all(axis=1)]\n",
    "print(\"old dataframe\",df.shape)\n",
    "print(\"new dataframe\",df_new.shape)\n",
    "print('total_droped_rows',df.shape[0] - df_new.shape[0])"
   ]
  },
  {
   "cell_type": "code",
   "execution_count": 108,
   "id": "52e28685",
   "metadata": {},
   "outputs": [
    {
     "data": {
      "text/plain": [
       "1.0075566750629723"
      ]
     },
     "execution_count": 108,
     "metadata": {},
     "output_type": "execute_result"
    }
   ],
   "source": [
    "loss_percentage=(4/397)*100\n",
    "loss_percentage"
   ]
  },
  {
   "cell_type": "code",
   "execution_count": 109,
   "id": "0fa054f1",
   "metadata": {},
   "outputs": [],
   "source": [
    "x=df_new.iloc[:,:-1]\n",
    "y=df_new.iloc[:,-1]"
   ]
  },
  {
   "cell_type": "code",
   "execution_count": 110,
   "id": "154fadc7",
   "metadata": {},
   "outputs": [
    {
     "data": {
      "text/plain": [
       "0      139750\n",
       "1      173200\n",
       "2       79750\n",
       "3      115000\n",
       "4      141500\n",
       "        ...  \n",
       "392    103106\n",
       "393    150564\n",
       "394    101738\n",
       "395     95329\n",
       "396     81035\n",
       "Name: salary, Length: 393, dtype: int64"
      ]
     },
     "execution_count": 110,
     "metadata": {},
     "output_type": "execute_result"
    }
   ],
   "source": [
    "y"
   ]
  },
  {
   "cell_type": "code",
   "execution_count": 111,
   "id": "ac1dc1b0",
   "metadata": {},
   "outputs": [
    {
     "data": {
      "text/html": [
       "<div>\n",
       "<style scoped>\n",
       "    .dataframe tbody tr th:only-of-type {\n",
       "        vertical-align: middle;\n",
       "    }\n",
       "\n",
       "    .dataframe tbody tr th {\n",
       "        vertical-align: top;\n",
       "    }\n",
       "\n",
       "    .dataframe thead th {\n",
       "        text-align: right;\n",
       "    }\n",
       "</style>\n",
       "<table border=\"1\" class=\"dataframe\">\n",
       "  <thead>\n",
       "    <tr style=\"text-align: right;\">\n",
       "      <th></th>\n",
       "      <th>yrs.service</th>\n",
       "    </tr>\n",
       "  </thead>\n",
       "  <tbody>\n",
       "    <tr>\n",
       "      <th>0</th>\n",
       "      <td>18</td>\n",
       "    </tr>\n",
       "    <tr>\n",
       "      <th>1</th>\n",
       "      <td>16</td>\n",
       "    </tr>\n",
       "    <tr>\n",
       "      <th>2</th>\n",
       "      <td>3</td>\n",
       "    </tr>\n",
       "    <tr>\n",
       "      <th>3</th>\n",
       "      <td>39</td>\n",
       "    </tr>\n",
       "    <tr>\n",
       "      <th>4</th>\n",
       "      <td>41</td>\n",
       "    </tr>\n",
       "    <tr>\n",
       "      <th>...</th>\n",
       "      <td>...</td>\n",
       "    </tr>\n",
       "    <tr>\n",
       "      <th>392</th>\n",
       "      <td>30</td>\n",
       "    </tr>\n",
       "    <tr>\n",
       "      <th>393</th>\n",
       "      <td>19</td>\n",
       "    </tr>\n",
       "    <tr>\n",
       "      <th>394</th>\n",
       "      <td>25</td>\n",
       "    </tr>\n",
       "    <tr>\n",
       "      <th>395</th>\n",
       "      <td>15</td>\n",
       "    </tr>\n",
       "    <tr>\n",
       "      <th>396</th>\n",
       "      <td>4</td>\n",
       "    </tr>\n",
       "  </tbody>\n",
       "</table>\n",
       "<p>393 rows × 1 columns</p>\n",
       "</div>"
      ],
      "text/plain": [
       "     yrs.service\n",
       "0             18\n",
       "1             16\n",
       "2              3\n",
       "3             39\n",
       "4             41\n",
       "..           ...\n",
       "392           30\n",
       "393           19\n",
       "394           25\n",
       "395           15\n",
       "396            4\n",
       "\n",
       "[393 rows x 1 columns]"
      ]
     },
     "execution_count": 111,
     "metadata": {},
     "output_type": "execute_result"
    }
   ],
   "source": [
    "x"
   ]
  },
  {
   "cell_type": "code",
   "execution_count": 112,
   "id": "51fef416",
   "metadata": {},
   "outputs": [
    {
     "data": {
      "text/plain": [
       "array([[ 0.05627813],\n",
       "       [-0.10226886],\n",
       "       [-1.13282426],\n",
       "       [ 1.72102147],\n",
       "       [ 1.87956846],\n",
       "       [-0.89500378],\n",
       "       [ 0.45264559],\n",
       "       [ 2.19666243],\n",
       "       [ 0.21482511],\n",
       "       [ 0.05627813],\n",
       "       [-0.7364568 ],\n",
       "       [-1.21209775],\n",
       "       [-1.29137124],\n",
       "       [-1.37064474],\n",
       "       [ 0.05627813],\n",
       "       [-1.13282426],\n",
       "       [ 0.21482511],\n",
       "       [ 1.32465401],\n",
       "       [ 0.45264559],\n",
       "       [ 1.48320099],\n",
       "       [ 0.69046607],\n",
       "       [ 1.08683353],\n",
       "       [ 1.00756004],\n",
       "       [ 0.13555162],\n",
       "       [-0.7364568 ],\n",
       "       [-0.7364568 ],\n",
       "       [ 0.45264559],\n",
       "       [-1.13282426],\n",
       "       [-1.37064474],\n",
       "       [-0.7364568 ],\n",
       "       [-1.05355077],\n",
       "       [-1.21209775],\n",
       "       [-0.6571833 ],\n",
       "       [-1.21209775],\n",
       "       [-1.21209775],\n",
       "       [-1.37064474],\n",
       "       [ 0.29409861],\n",
       "       [-1.05355077],\n",
       "       [ 1.08683353],\n",
       "       [-0.6571833 ],\n",
       "       [-1.21209775],\n",
       "       [ 0.45264559],\n",
       "       [ 0.76973956],\n",
       "       [ 0.13555162],\n",
       "       [-0.18154235],\n",
       "       [ 0.84901305],\n",
       "       [ 0.13555162],\n",
       "       [ 0.61119258],\n",
       "       [-1.29137124],\n",
       "       [ 0.84901305],\n",
       "       [-0.49863632],\n",
       "       [-1.13282426],\n",
       "       [-0.6571833 ],\n",
       "       [-0.49863632],\n",
       "       [-0.97427727],\n",
       "       [ 0.29409861],\n",
       "       [-0.7364568 ],\n",
       "       [-0.6571833 ],\n",
       "       [-1.13282426],\n",
       "       [-0.7364568 ],\n",
       "       [-1.21209775],\n",
       "       [ 1.08683353],\n",
       "       [-0.49863632],\n",
       "       [-1.13282426],\n",
       "       [-0.7364568 ],\n",
       "       [-0.41936283],\n",
       "       [ 1.08683353],\n",
       "       [-0.02299536],\n",
       "       [ 1.48320099],\n",
       "       [-1.21209775],\n",
       "       [ 2.19666243],\n",
       "       [ 0.13555162],\n",
       "       [ 1.32465401],\n",
       "       [ 0.45264559],\n",
       "       [-1.13282426],\n",
       "       [-1.13282426],\n",
       "       [ 0.13555162],\n",
       "       [-1.29137124],\n",
       "       [-1.21209775],\n",
       "       [ 0.84901305],\n",
       "       [-0.10226886],\n",
       "       [ 0.21482511],\n",
       "       [-1.21209775],\n",
       "       [ 0.05627813],\n",
       "       [-0.26081584],\n",
       "       [ 1.56247449],\n",
       "       [-1.21209775],\n",
       "       [ 0.61119258],\n",
       "       [-0.81573029],\n",
       "       [-0.97427727],\n",
       "       [-0.81573029],\n",
       "       [-0.81573029],\n",
       "       [ 1.64174798],\n",
       "       [ 0.21482511],\n",
       "       [-1.37064474],\n",
       "       [-0.41936283],\n",
       "       [-0.81573029],\n",
       "       [-0.26081584],\n",
       "       [ 0.69046607],\n",
       "       [ 0.61119258],\n",
       "       [ 0.45264559],\n",
       "       [-0.97427727],\n",
       "       [-0.26081584],\n",
       "       [-0.57790981],\n",
       "       [ 0.84901305],\n",
       "       [-0.7364568 ],\n",
       "       [-0.7364568 ],\n",
       "       [-0.7364568 ],\n",
       "       [ 1.08683353],\n",
       "       [-0.10226886],\n",
       "       [-0.10226886],\n",
       "       [-1.29137124],\n",
       "       [ 1.56247449],\n",
       "       [-1.37064474],\n",
       "       [-0.6571833 ],\n",
       "       [ 0.92828655],\n",
       "       [ 1.48320099],\n",
       "       [-1.29137124],\n",
       "       [-1.13282426],\n",
       "       [-0.26081584],\n",
       "       [ 1.16610702],\n",
       "       [ 0.3733721 ],\n",
       "       [ 0.3733721 ],\n",
       "       [ 0.3733721 ],\n",
       "       [ 2.5137564 ],\n",
       "       [ 0.69046607],\n",
       "       [-1.37064474],\n",
       "       [ 1.00756004],\n",
       "       [-1.21209775],\n",
       "       [-0.6571833 ],\n",
       "       [-0.7364568 ],\n",
       "       [-1.29137124],\n",
       "       [ 0.61119258],\n",
       "       [ 0.05627813],\n",
       "       [-0.26081584],\n",
       "       [-0.26081584],\n",
       "       [-0.81573029],\n",
       "       [ 0.05627813],\n",
       "       [-0.7364568 ],\n",
       "       [-0.57790981],\n",
       "       [-0.49863632],\n",
       "       [-1.13282426],\n",
       "       [ 0.76973956],\n",
       "       [ 0.84901305],\n",
       "       [-1.05355077],\n",
       "       [ 0.76973956],\n",
       "       [ 0.69046607],\n",
       "       [-1.13282426],\n",
       "       [-0.41936283],\n",
       "       [-1.05355077],\n",
       "       [-0.6571833 ],\n",
       "       [-0.57790981],\n",
       "       [-1.37064474],\n",
       "       [ 0.29409861],\n",
       "       [ 0.05627813],\n",
       "       [-1.37064474],\n",
       "       [-0.89500378],\n",
       "       [-0.10226886],\n",
       "       [-1.21209775],\n",
       "       [ 0.13555162],\n",
       "       [-0.81573029],\n",
       "       [-1.13282426],\n",
       "       [-1.37064474],\n",
       "       [-0.7364568 ],\n",
       "       [-0.10226886],\n",
       "       [ 0.13555162],\n",
       "       [-0.89500378],\n",
       "       [ 0.05627813],\n",
       "       [-0.97427727],\n",
       "       [ 0.13555162],\n",
       "       [ 0.53191908],\n",
       "       [ 0.21482511],\n",
       "       [-0.89500378],\n",
       "       [ 0.61119258],\n",
       "       [-0.81573029],\n",
       "       [-0.6571833 ],\n",
       "       [-0.26081584],\n",
       "       [-1.13282426],\n",
       "       [-0.49863632],\n",
       "       [-0.97427727],\n",
       "       [-0.7364568 ],\n",
       "       [ 0.3733721 ],\n",
       "       [ 0.45264559],\n",
       "       [ 1.00756004],\n",
       "       [-0.57790981],\n",
       "       [-0.57790981],\n",
       "       [ 0.84901305],\n",
       "       [ 0.13555162],\n",
       "       [-0.6571833 ],\n",
       "       [ 0.3733721 ],\n",
       "       [ 0.05627813],\n",
       "       [ 0.13555162],\n",
       "       [ 2.83085037],\n",
       "       [-0.81573029],\n",
       "       [-1.05355077],\n",
       "       [-1.05355077],\n",
       "       [ 1.24538052],\n",
       "       [ 0.3733721 ],\n",
       "       [-1.05355077],\n",
       "       [ 1.80029496],\n",
       "       [-0.02299536],\n",
       "       [-0.02299536],\n",
       "       [-0.97427727],\n",
       "       [-1.21209775],\n",
       "       [ 1.24538052],\n",
       "       [ 0.05627813],\n",
       "       [-1.21209775],\n",
       "       [ 0.21482511],\n",
       "       [-1.13282426],\n",
       "       [ 1.72102147],\n",
       "       [-0.81573029],\n",
       "       [ 0.13555162],\n",
       "       [-1.29137124],\n",
       "       [-0.49863632],\n",
       "       [-0.49863632],\n",
       "       [ 0.3733721 ],\n",
       "       [-0.81573029],\n",
       "       [-0.49863632],\n",
       "       [ 0.29409861],\n",
       "       [-0.57790981],\n",
       "       [-0.89500378],\n",
       "       [ 0.21482511],\n",
       "       [ 1.4039275 ],\n",
       "       [ 0.21482511],\n",
       "       [-1.29137124],\n",
       "       [-0.81573029],\n",
       "       [-0.49863632],\n",
       "       [ 1.64174798],\n",
       "       [ 0.76973956],\n",
       "       [ 0.53191908],\n",
       "       [ 0.13555162],\n",
       "       [ 0.13555162],\n",
       "       [-1.13282426],\n",
       "       [-0.02299536],\n",
       "       [ 0.61119258],\n",
       "       [-0.89500378],\n",
       "       [ 1.80029496],\n",
       "       [-0.89500378],\n",
       "       [-1.13282426],\n",
       "       [ 1.00756004],\n",
       "       [ 1.56247449],\n",
       "       [ 0.45264559],\n",
       "       [ 0.45264559],\n",
       "       [-0.49863632],\n",
       "       [ 0.45264559],\n",
       "       [ 0.05627813],\n",
       "       [ 0.45264559],\n",
       "       [-0.81573029],\n",
       "       [ 1.72102147],\n",
       "       [-0.7364568 ],\n",
       "       [-0.41936283],\n",
       "       [-1.21209775],\n",
       "       [-0.81573029],\n",
       "       [-0.7364568 ],\n",
       "       [ 0.3733721 ],\n",
       "       [ 0.45264559],\n",
       "       [-1.13282426],\n",
       "       [ 1.00756004],\n",
       "       [ 1.24538052],\n",
       "       [ 2.19666243],\n",
       "       [ 0.69046607],\n",
       "       [ 1.08683353],\n",
       "       [ 1.4039275 ],\n",
       "       [ 1.00756004],\n",
       "       [ 2.03811544],\n",
       "       [-0.57790981],\n",
       "       [ 2.11738893],\n",
       "       [-0.81573029],\n",
       "       [ 1.80029496],\n",
       "       [ 0.05627813],\n",
       "       [-1.29137124],\n",
       "       [-1.05355077],\n",
       "       [-1.13282426],\n",
       "       [-0.89500378],\n",
       "       [ 2.4344829 ],\n",
       "       [ 0.76973956],\n",
       "       [ 0.05627813],\n",
       "       [ 2.27593592],\n",
       "       [ 1.64174798],\n",
       "       [ 0.76973956],\n",
       "       [ 2.67230338],\n",
       "       [ 2.03811544],\n",
       "       [-0.89500378],\n",
       "       [ 2.5137564 ],\n",
       "       [ 0.76973956],\n",
       "       [-1.37064474],\n",
       "       [ 0.76973956],\n",
       "       [-0.97427727],\n",
       "       [-0.81573029],\n",
       "       [ 0.84901305],\n",
       "       [-0.6571833 ],\n",
       "       [-1.29137124],\n",
       "       [-0.81573029],\n",
       "       [ 1.48320099],\n",
       "       [ 0.05627813],\n",
       "       [-0.49863632],\n",
       "       [ 2.03811544],\n",
       "       [ 1.72102147],\n",
       "       [ 1.48320099],\n",
       "       [-0.10226886],\n",
       "       [-0.34008933],\n",
       "       [-1.05355077],\n",
       "       [ 2.11738893],\n",
       "       [ 1.08683353],\n",
       "       [-1.05355077],\n",
       "       [ 0.84901305],\n",
       "       [-1.37064474],\n",
       "       [-0.18154235],\n",
       "       [-0.81573029],\n",
       "       [-0.6571833 ],\n",
       "       [ 0.13555162],\n",
       "       [ 1.4039275 ],\n",
       "       [-0.89500378],\n",
       "       [-1.13282426],\n",
       "       [-0.6571833 ],\n",
       "       [ 2.19666243],\n",
       "       [-0.10226886],\n",
       "       [-0.18154235],\n",
       "       [ 0.45264559],\n",
       "       [-0.6571833 ],\n",
       "       [-0.49863632],\n",
       "       [-0.18154235],\n",
       "       [ 1.08683353],\n",
       "       [-1.05355077],\n",
       "       [-0.18154235],\n",
       "       [ 1.56247449],\n",
       "       [-0.57790981],\n",
       "       [ 0.45264559],\n",
       "       [-0.6571833 ],\n",
       "       [-0.57790981],\n",
       "       [ 0.13555162],\n",
       "       [-0.89500378],\n",
       "       [ 1.64174798],\n",
       "       [ 0.45264559],\n",
       "       [-0.41936283],\n",
       "       [ 0.61119258],\n",
       "       [-0.18154235],\n",
       "       [-0.49863632],\n",
       "       [-0.02299536],\n",
       "       [ 1.64174798],\n",
       "       [ 1.08683353],\n",
       "       [ 1.4039275 ],\n",
       "       [-0.57790981],\n",
       "       [ 0.76973956],\n",
       "       [ 1.24538052],\n",
       "       [-1.13282426],\n",
       "       [ 0.84901305],\n",
       "       [ 2.5137564 ],\n",
       "       [ 1.64174798],\n",
       "       [ 0.76973956],\n",
       "       [ 0.21482511],\n",
       "       [-1.29137124],\n",
       "       [ 0.29409861],\n",
       "       [ 1.80029496],\n",
       "       [ 1.4039275 ],\n",
       "       [-0.26081584],\n",
       "       [-1.05355077],\n",
       "       [-0.49863632],\n",
       "       [-0.18154235],\n",
       "       [ 1.00756004],\n",
       "       [-0.02299536],\n",
       "       [ 1.80029496],\n",
       "       [-0.57790981],\n",
       "       [-1.29137124],\n",
       "       [ 1.00756004],\n",
       "       [ 1.08683353],\n",
       "       [-0.7364568 ],\n",
       "       [ 0.21482511],\n",
       "       [-0.81573029],\n",
       "       [ 0.69046607],\n",
       "       [ 0.13555162],\n",
       "       [ 0.69046607],\n",
       "       [-1.29137124],\n",
       "       [-1.13282426],\n",
       "       [ 1.64174798],\n",
       "       [-0.7364568 ],\n",
       "       [-1.13282426],\n",
       "       [ 0.45264559],\n",
       "       [-0.97427727],\n",
       "       [ 2.11738893],\n",
       "       [ 0.29409861],\n",
       "       [-0.6571833 ],\n",
       "       [ 0.76973956],\n",
       "       [-0.18154235],\n",
       "       [ 1.48320099],\n",
       "       [ 0.05627813],\n",
       "       [ 0.13555162],\n",
       "       [ 0.13555162],\n",
       "       [ 1.00756004],\n",
       "       [ 0.13555162],\n",
       "       [ 0.61119258],\n",
       "       [-0.18154235],\n",
       "       [-1.05355077]])"
      ]
     },
     "execution_count": 112,
     "metadata": {},
     "output_type": "execute_result"
    }
   ],
   "source": [
    "from sklearn.preprocessing import StandardScaler\n",
    "sc=StandardScaler()\n",
    "x=sc.fit_transform(x)\n",
    "x"
   ]
  },
  {
   "cell_type": "code",
   "execution_count": 113,
   "id": "34590523",
   "metadata": {},
   "outputs": [],
   "source": [
    "from sklearn.model_selection import train_test_split\n",
    "from sklearn.linear_model import LinearRegression\n",
    "lr=LinearRegression()\n",
    "from sklearn.metrics import accuracy_score"
   ]
  },
  {
   "cell_type": "code",
   "execution_count": 114,
   "id": "09e6b44f",
   "metadata": {},
   "outputs": [
    {
     "data": {
      "text/plain": [
       "array([100688.91859766, 131692.96488923, 126645.79456269, 100688.91859766,\n",
       "       107899.16192128, 103573.01592711, 117993.50257435, 109341.210586  ,\n",
       "       120877.5999038 , 125924.77023033, 104294.04025947, 111504.28358309,\n",
       "       120877.5999038 , 103573.01592711, 129529.89189214, 102851.99159474,\n",
       "       119435.55123907, 102851.99159474, 110783.25925073, 112225.30791545,\n",
       "       107178.13758892, 115830.42957726, 106457.11325655, 102851.99159474,\n",
       "       105736.08892419, 103573.01592711, 114388.38091254, 112225.30791545,\n",
       "       118714.52690671, 109341.210586  , 120156.57557143, 117272.47824199,\n",
       "       122319.64856852, 114388.38091254, 103573.01592711, 111504.28358309,\n",
       "       107178.13758892, 122319.64856852, 102851.99159474, 117272.47824199,\n",
       "       112225.30791545, 126645.79456269, 102130.96726238, 122319.64856852,\n",
       "       107178.13758892, 116551.45390962, 106457.11325655, 125924.77023033,\n",
       "       104294.04025947, 106457.11325655, 113667.35658018, 106457.11325655,\n",
       "       117272.47824199, 120877.5999038 , 107899.16192128, 108620.18625364,\n",
       "       113667.35658018, 114388.38091254, 114388.38091254, 102130.96726238,\n",
       "       102851.99159474, 102851.99159474, 133135.01355395, 105015.06459183,\n",
       "       111504.28358309, 105015.06459183, 133135.01355395, 102851.99159474,\n",
       "       119435.55123907, 102130.96726238, 105736.08892419, 115830.42957726,\n",
       "       127366.81889506, 107178.13758892, 105736.08892419, 136019.1108834 ,\n",
       "       106457.11325655, 115830.42957726, 110062.23491836])"
      ]
     },
     "execution_count": 114,
     "metadata": {},
     "output_type": "execute_result"
    }
   ],
   "source": [
    "x_train,x_test,y_train,y_test=train_test_split(x,y,random_state=0,test_size=0.20)\n",
    "lr.fit(x_train,y_train)\n",
    "pred_train=lr.predict(x_train)\n",
    "pred_test=lr.predict(x_test)\n",
    "pred_test\n"
   ]
  },
  {
   "cell_type": "code",
   "execution_count": 116,
   "id": "33ee744d",
   "metadata": {},
   "outputs": [
    {
     "data": {
      "text/plain": [
       "114    105000\n",
       "283    155865\n",
       "69      91412\n",
       "157     88000\n",
       "332    105450\n",
       "        ...  \n",
       "91     105128\n",
       "125     78162\n",
       "65     100522\n",
       "56     117704\n",
       "302    170500\n",
       "Name: salary, Length: 79, dtype: int64"
      ]
     },
     "execution_count": 116,
     "metadata": {},
     "output_type": "execute_result"
    }
   ],
   "source": [
    "y_test"
   ]
  },
  {
   "cell_type": "code",
   "execution_count": 117,
   "id": "98caaf0b",
   "metadata": {},
   "outputs": [
    {
     "data": {
      "text/plain": [
       "114    -4311.081402\n",
       "283   -24172.035111\n",
       "69     35233.794563\n",
       "157    12688.918598\n",
       "332     2449.161921\n",
       "           ...     \n",
       "91       608.088924\n",
       "125    57857.110883\n",
       "65      5935.113257\n",
       "56     -1873.570423\n",
       "302   -60437.765082\n",
       "Name: salary, Length: 79, dtype: float64"
      ]
     },
     "execution_count": 117,
     "metadata": {},
     "output_type": "execute_result"
    }
   ],
   "source": [
    "diff=pred_test-y_test\n",
    "diff"
   ]
  },
  {
   "cell_type": "code",
   "execution_count": 118,
   "id": "f74a2e4d",
   "metadata": {},
   "outputs": [
    {
     "data": {
      "text/html": [
       "<div>\n",
       "<style scoped>\n",
       "    .dataframe tbody tr th:only-of-type {\n",
       "        vertical-align: middle;\n",
       "    }\n",
       "\n",
       "    .dataframe tbody tr th {\n",
       "        vertical-align: top;\n",
       "    }\n",
       "\n",
       "    .dataframe thead th {\n",
       "        text-align: right;\n",
       "    }\n",
       "</style>\n",
       "<table border=\"1\" class=\"dataframe\">\n",
       "  <thead>\n",
       "    <tr style=\"text-align: right;\">\n",
       "      <th></th>\n",
       "      <th>Actual</th>\n",
       "      <th>Predicted</th>\n",
       "      <th>Difference</th>\n",
       "    </tr>\n",
       "  </thead>\n",
       "  <tbody>\n",
       "    <tr>\n",
       "      <th>0</th>\n",
       "      <td>105000</td>\n",
       "      <td>100688.918598</td>\n",
       "      <td>-4311.081402</td>\n",
       "    </tr>\n",
       "    <tr>\n",
       "      <th>1</th>\n",
       "      <td>155865</td>\n",
       "      <td>131692.964889</td>\n",
       "      <td>-24172.035111</td>\n",
       "    </tr>\n",
       "    <tr>\n",
       "      <th>2</th>\n",
       "      <td>91412</td>\n",
       "      <td>126645.794563</td>\n",
       "      <td>35233.794563</td>\n",
       "    </tr>\n",
       "    <tr>\n",
       "      <th>3</th>\n",
       "      <td>88000</td>\n",
       "      <td>100688.918598</td>\n",
       "      <td>12688.918598</td>\n",
       "    </tr>\n",
       "    <tr>\n",
       "      <th>4</th>\n",
       "      <td>105450</td>\n",
       "      <td>107899.161921</td>\n",
       "      <td>2449.161921</td>\n",
       "    </tr>\n",
       "    <tr>\n",
       "      <th>...</th>\n",
       "      <td>...</td>\n",
       "      <td>...</td>\n",
       "      <td>...</td>\n",
       "    </tr>\n",
       "    <tr>\n",
       "      <th>74</th>\n",
       "      <td>105128</td>\n",
       "      <td>105736.088924</td>\n",
       "      <td>608.088924</td>\n",
       "    </tr>\n",
       "    <tr>\n",
       "      <th>75</th>\n",
       "      <td>78162</td>\n",
       "      <td>136019.110883</td>\n",
       "      <td>57857.110883</td>\n",
       "    </tr>\n",
       "    <tr>\n",
       "      <th>76</th>\n",
       "      <td>100522</td>\n",
       "      <td>106457.113257</td>\n",
       "      <td>5935.113257</td>\n",
       "    </tr>\n",
       "    <tr>\n",
       "      <th>77</th>\n",
       "      <td>117704</td>\n",
       "      <td>115830.429577</td>\n",
       "      <td>-1873.570423</td>\n",
       "    </tr>\n",
       "    <tr>\n",
       "      <th>78</th>\n",
       "      <td>170500</td>\n",
       "      <td>110062.234918</td>\n",
       "      <td>-60437.765082</td>\n",
       "    </tr>\n",
       "  </tbody>\n",
       "</table>\n",
       "<p>79 rows × 3 columns</p>\n",
       "</div>"
      ],
      "text/plain": [
       "    Actual      Predicted    Difference\n",
       "0   105000  100688.918598  -4311.081402\n",
       "1   155865  131692.964889 -24172.035111\n",
       "2    91412  126645.794563  35233.794563\n",
       "3    88000  100688.918598  12688.918598\n",
       "4   105450  107899.161921   2449.161921\n",
       "..     ...            ...           ...\n",
       "74  105128  105736.088924    608.088924\n",
       "75   78162  136019.110883  57857.110883\n",
       "76  100522  106457.113257   5935.113257\n",
       "77  117704  115830.429577  -1873.570423\n",
       "78  170500  110062.234918 -60437.765082\n",
       "\n",
       "[79 rows x 3 columns]"
      ]
     },
     "execution_count": 118,
     "metadata": {},
     "output_type": "execute_result"
    }
   ],
   "source": [
    "import numpy as np\n",
    "a=np.array(y_test)\n",
    "pred=np.array(pred_test)\n",
    "diff=np.array(diff)\n",
    "Result=pd.DataFrame({'Actual':a,'Predicted':pred,'Difference':diff},index=range(len(a)))\n",
    "Result"
   ]
  },
  {
   "cell_type": "code",
   "execution_count": null,
   "id": "db8b7cd5",
   "metadata": {},
   "outputs": [],
   "source": []
  },
  {
   "cell_type": "code",
   "execution_count": null,
   "id": "4e4f1587",
   "metadata": {},
   "outputs": [],
   "source": []
  }
 ],
 "metadata": {
  "kernelspec": {
   "display_name": "Python 3 (ipykernel)",
   "language": "python",
   "name": "python3"
  },
  "language_info": {
   "codemirror_mode": {
    "name": "ipython",
    "version": 3
   },
   "file_extension": ".py",
   "mimetype": "text/x-python",
   "name": "python",
   "nbconvert_exporter": "python",
   "pygments_lexer": "ipython3",
   "version": "3.9.7"
  }
 },
 "nbformat": 4,
 "nbformat_minor": 5
}
